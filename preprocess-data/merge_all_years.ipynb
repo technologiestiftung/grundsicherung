{
 "cells": [
  {
   "cell_type": "code",
   "execution_count": 3,
   "metadata": {},
   "outputs": [],
   "source": [
    "import pandas as pd\n",
    "import numpy as np\n",
    "import matplotlib\n",
    "%matplotlib inline  "
   ]
  },
  {
   "cell_type": "markdown",
   "metadata": {},
   "source": [
    "## Merge all years for whole Berlin"
   ]
  },
  {
   "cell_type": "code",
   "execution_count": 141,
   "metadata": {},
   "outputs": [],
   "source": [
    "full_df = pd.DataFrame()\n",
    "\n",
    "for i in range (2006, 2018):\n",
    "    df = pd.read_excel(str(i) + '.xls', sheet_name='Tab E1', header=2, na_values=['x', '.'])\n",
    "    df['jahr'] = i\n",
    "    full_df = full_df.append(df[df.iloc[:,1] == 'Berlin'], sort=False)\n",
    "\n",
    "full_df.set_index('jahr', inplace = True)\n",
    "full_df = full_df.round(2)\n",
    "\n",
    "full_df.rename(columns={\n",
    "       ' je 100 der Bevölkerung1)\\n(18 - 64 Jahre,\\ninsgesamt)': '18-64 Jahre insgesamt',\n",
    "       ' je 100 der Bevölkerung1)\\n(ab 65 Jahre,\\ninsgesamt)': 'ab 65 Jahre insgesamt',\n",
    "       ' je 100 der Bevölkerung1)\\n(18 - 64 Jahre,\\nDeutsche)': '18-64 Jahre Deutsche',\n",
    "       ' je 100 der Bevölkerung1)\\n(ab 65 Jahre,\\nDeutsche)': 'ab 65 Jahre Deutsche',\n",
    "       ' je 100 der Bevölkerung1)\\n(18 - 64 Jahre,\\nAusländer)': '18-64 Jahre Ausländer',\n",
    "       ' je 100 der Bevölkerung1)\\n(ab 65 Jahre,\\nAusländer)': 'ab 65 Jahre Ausländer'\n",
    "}, inplace=True)\n",
    "\n",
    "full_df[['18-64 Jahre insgesamt',\n",
    "       'ab 65 Jahre insgesamt', '18-64 Jahre Deutsche', 'ab 65 Jahre Deutsche',\n",
    "       '18-64 Jahre Ausländer', 'ab 65 Jahre Ausländer']].to_csv('timeline.csv', encoding='utf-8')"
   ]
  },
  {
   "cell_type": "markdown",
   "metadata": {},
   "source": [
    "## Merge all years on LOR Level"
   ]
  },
  {
   "cell_type": "code",
   "execution_count": 52,
   "metadata": {},
   "outputs": [],
   "source": [
    "df = pd.read_excel('2008' + '.xls', sheet_name='Tab E1', header=2, na_values=['x', '.'])\n",
    "df.rename(columns={' je 100 der Bevölkerung1)\\n(ab 65 Jahre,\\ninsgesamt)': str(i), 'Planungsraum':'Kennung', 'Unnamed: 1':'Name'}, inplace=True)\n",
    "\n",
    "df = df[df.Name.notnull() & (df.Name != 'Name')]"
   ]
  },
  {
   "cell_type": "code",
   "execution_count": 34,
   "metadata": {},
   "outputs": [
    {
     "data": {
      "text/plain": [
       "0"
      ]
     },
     "execution_count": 34,
     "metadata": {},
     "output_type": "execute_result"
    }
   ],
   "source": [
    "full_df = pd.DataFrame()\n",
    "full_df.size"
   ]
  },
  {
   "cell_type": "code",
   "execution_count": 77,
   "metadata": {},
   "outputs": [],
   "source": [
    "# ab 65 Jahre\n",
    "full_df = pd.DataFrame()\n",
    "\n",
    "for i in range (2006, 2019):\n",
    "    df = pd.read_excel(str(i) + '.xls', sheet_name='Tab E1', header=2, na_values=['x', '.'])\n",
    "    df.rename(columns={' je 100 der Bevölkerung1)\\n(ab 65 Jahre,\\ninsgesamt)': 'y' + str(i), 'Planungsraum':'Kennung', 'Unnamed: 1':'Name'}, inplace=True)\n",
    "\n",
    "    df = df[df.Name.notnull() & (df.Name != 'Name')]\n",
    "    df = df[['Kennung', 'Name', 'y' + str(i)]]\n",
    "    \n",
    "    if full_df.size == 0:\n",
    "        full_df = df\n",
    "    else:\n",
    "        full_df = full_df.merge(df)"
   ]
  },
  {
   "cell_type": "code",
   "execution_count": 78,
   "metadata": {},
   "outputs": [],
   "source": [
    "full_df = full_df.round(2)\n",
    "full_df.to_csv('timelapse.csv', encoding='utf-8')"
   ]
  },
  {
   "cell_type": "code",
   "execution_count": null,
   "metadata": {},
   "outputs": [],
   "source": []
  }
 ],
 "metadata": {
  "kernelspec": {
   "display_name": "Python 3",
   "language": "python",
   "name": "python3"
  },
  "language_info": {
   "codemirror_mode": {
    "name": "ipython",
    "version": 3
   },
   "file_extension": ".py",
   "mimetype": "text/x-python",
   "name": "python",
   "nbconvert_exporter": "python",
   "pygments_lexer": "ipython3",
   "version": "3.7.1"
  }
 },
 "nbformat": 4,
 "nbformat_minor": 2
}
