{
 "cells": [
  {
   "cell_type": "markdown",
   "metadata": {},
   "source": [
    "# Preprocess data for viz"
   ]
  },
  {
   "cell_type": "markdown",
   "metadata": {},
   "source": [
    "## Data for map "
   ]
  },
  {
   "cell_type": "code",
   "execution_count": 41,
   "metadata": {},
   "outputs": [],
   "source": [
    "import geopandas as gpd\n",
    "import pandas as pd\n",
    "from shapely.geometry import Point\n",
    "import os"
   ]
  },
  {
   "cell_type": "code",
   "execution_count": 42,
   "metadata": {},
   "outputs": [],
   "source": [
    "plr = gpd.read_file('data/raw-data/lor/lor_planungsraeume.geojson', encoding='utf-8')\n",
    "\n",
    "# old data: stgbxIIlor.csv\n",
    "df = pd.read_csv('data/raw-data/lor/2018_new.csv', sep=\";\", dtype={'Kennung':str}, na_values=['.', 'x'], encoding='utf-8')\n",
    "df.set_index('Kennung', inplace=True)\n",
    "\n",
    "data = df.join(plr.set_index('spatial_name'), rsuffix='_r')\n",
    "\n",
    "data.rename(columns={\n",
    "       ' je 100 der Bevölkerung1)\\n(18 - 64 Jahre,\\ninsgesamt)': '18-64 Jahre insgesamt',\n",
    "       ' je 100 der Bevölkerung1)\\n(ab 65 Jahre,\\ninsgesamt)': 'ab 65 Jahre insgesamt',\n",
    "       ' je 100 der Bevölkerung1)\\n(18 - 64 Jahre,\\nDeutsche)': '18-64 Jahre Deutsche',\n",
    "       ' je 100 der Bevölkerung1)\\n(ab 65 Jahre,\\nDeutsche)': 'ab 65 Jahre Deutsche',\n",
    "       ' je 100 der Bevölkerung1)\\n(18 - 64 Jahre,\\nAusländer)': '18-64 Jahre Ausländer',\n",
    "       ' je 100 der Bevölkerung1)\\n(ab 65 Jahre,\\nAusländer)': 'ab 65 Jahre Ausländer'\n",
    "}, inplace=True)\n",
    "\n",
    "gpd.GeoDataFrame(data).to_file('data/preprocessed-data/xii.geojson', driver='GeoJSON', encoding='utf-8')"
   ]
  },
  {
   "cell_type": "markdown",
   "metadata": {},
   "source": [
    "## Merge all years for whole Berlin (linechart)"
   ]
  },
  {
   "cell_type": "code",
   "execution_count": 43,
   "metadata": {},
   "outputs": [],
   "source": [
    "full_df = pd.DataFrame()\n",
    "\n",
    "for i in range (2006, 2019):\n",
    "    df = pd.read_excel('data/raw-data/lor/{}.xls'.format(str(i)), sheet_name='Tab E1', header=2, na_values=['x', '.'])\n",
    "    df['jahr'] = i\n",
    "    full_df = full_df.append(df[df.iloc[:,1] == 'Berlin'], sort=False)\n",
    "\n",
    "full_df.set_index('jahr', inplace = True)\n",
    "full_df = full_df.round(2)\n",
    "\n",
    "full_df.rename(columns={\n",
    "       ' je 100 der Bevölkerung1)\\n(18 - 64 Jahre,\\ninsgesamt)': '18-64 Jahre insgesamt',\n",
    "       ' je 100 der Bevölkerung1)\\n(ab 65 Jahre,\\ninsgesamt)': 'ab 65 Jahre insgesamt',\n",
    "       ' je 100 der Bevölkerung1)\\n(18 - 64 Jahre,\\nDeutsche)': '18-64 Jahre Deutsche',\n",
    "       ' je 100 der Bevölkerung1)\\n(ab 65 Jahre,\\nDeutsche)': 'ab 65 Jahre Deutsche',\n",
    "       ' je 100 der Bevölkerung1)\\n(18 - 64 Jahre,\\nAusländer)': '18-64 Jahre Ausländer',\n",
    "       ' je 100 der Bevölkerung1)\\n(ab 65 Jahre,\\nAusländer)': 'ab 65 Jahre Ausländer'\n",
    "}, inplace=True)\n",
    "\n",
    "full_df[['18-64 Jahre insgesamt',\n",
    "       'ab 65 Jahre insgesamt', '18-64 Jahre Deutsche', 'ab 65 Jahre Deutsche',\n",
    "       '18-64 Jahre Ausländer', 'ab 65 Jahre Ausländer']].to_csv('timeline.csv', encoding='utf-8')\n",
    "\n",
    "full_df = full_df.round(2)\n",
    "full_df.to_csv('data/preprocessed-data/timeline.csv', encoding='utf-8')"
   ]
  },
  {
   "cell_type": "markdown",
   "metadata": {},
   "source": [
    "## Merge all years on LOR Level (timelapse map)"
   ]
  },
  {
   "cell_type": "code",
   "execution_count": 81,
   "metadata": {},
   "outputs": [
    {
     "name": "stdout",
     "output_type": "stream",
     "text": [
      "      Kennung                        Name     y2006\n",
      "441  12302007             Schorfheidestr.  0.166113\n",
      "442  12302008          Märkisches Zentrum  3.859993\n",
      "443  12302009       Treuenbrietzener Str.  4.018789\n",
      "444  12302010            Dannenwalder Weg  3.345070\n",
      "445  12302011             Lübarser Straße  2.367531\n",
      "446  12302012           Rollbergesiedlung  5.258126\n",
      "447  12304313                 Borsigwalde  2.608048\n",
      "448  12304314  Ziekowstraße/Freie Scholle  1.750292\n",
      "      Kennung                        Name     y2007\n",
      "441  12302007             Schorfheidestr.  0.311526\n",
      "442  12302008          Märkisches Zentrum  4.072682\n",
      "443  12302009       Treuenbrietzener Str.  4.933196\n",
      "444  12302010            Dannenwalder Weg  4.328018\n",
      "445  12302011             Lübarser Straße  2.533040\n",
      "446  12302012           Rollbergesiedlung  6.278027\n",
      "447  12304313                 Borsigwalde  3.021583\n",
      "448  12304314  Ziekowstraße/Freie Scholle  2.216278\n",
      "      Kennung                        Name     y2008\n",
      "441  12302007             Schorfheidestr.  0.147929\n",
      "442  12302008          Märkisches Zentrum  3.486239\n",
      "443  12302009       Treuenbrietzener Str.  4.799578\n",
      "444  12302010            Dannenwalder Weg  3.755605\n",
      "445  12302011             Lübarser Straße  2.553191\n",
      "446  12302012           Rollbergesiedlung  4.862953\n",
      "447  12304313                 Borsigwalde  3.086863\n",
      "448  12304314  Ziekowstraße/Freie Scholle  2.609335\n",
      "      Kennung                        Name     y2009\n",
      "441  12302107             Schorfheidestr.  1.208054\n",
      "442  12302108          Märkisches Zentrum  4.011799\n",
      "443  12302109       Treuenbrietzener Str.  6.388738\n",
      "444  12302110            Dannenwalder Weg  4.226919\n",
      "445  12302211             Lübarser Straße  2.451481\n",
      "446  12302212           Rollbergesiedlung  6.017699\n",
      "447  12304313                 Borsigwalde  3.438596\n",
      "448  12304314  Ziekowstraße/Freie Scholle  2.441652\n",
      "      Kennung                        Name     y2010\n",
      "441  12302107             Schorfheidestr.  1.830986\n",
      "442  12302108          Märkisches Zentrum  3.953824\n",
      "443  12302109       Treuenbrietzener Str.  6.382979\n",
      "444  12302110            Dannenwalder Weg  4.835924\n",
      "445  12302211             Lübarser Straße  2.403846\n",
      "446  12302212           Rollbergesiedlung  7.003546\n",
      "447  12304313                 Borsigwalde  3.531073\n",
      "448  12304314  Ziekowstraße/Freie Scholle  2.969589\n",
      "      Kennung                        Name     y2011\n",
      "441  12302107             Schorfheidestr.  0.834492\n",
      "442  12302108          Märkisches Zentrum  4.395280\n",
      "443  12302109       Treuenbrietzener Str.  6.339468\n",
      "444  12302110            Dannenwalder Weg  4.638873\n",
      "445  12302211             Lübarser Straße  2.268041\n",
      "446  12302212           Rollbergesiedlung  7.699358\n",
      "447  12304313                 Borsigwalde  3.690808\n",
      "448  12304314  Ziekowstraße/Freie Scholle  3.157504\n",
      "      Kennung                        Name     y2012\n",
      "441  12302107             Schorfheidestr.  1.715040\n",
      "442  12302108          Märkisches Zentrum  4.601048\n",
      "443  12302109       Treuenbrietzener Str.  7.280617\n",
      "444  12302110            Dannenwalder Weg  5.086774\n",
      "445  12302211             Lübarser Straße  2.300000\n",
      "446  12302212           Rollbergesiedlung  8.122744\n",
      "447  12304313                 Borsigwalde  4.022583\n",
      "448  12304314  Ziekowstraße/Freie Scholle  3.309091\n",
      "      Kennung                        Name     y2013\n",
      "441  12302107             Schorfheidestr.  1.756587\n",
      "442  12302108          Märkisches Zentrum  4.587421\n",
      "443  12302109       Treuenbrietzener Str.  7.804419\n",
      "444  12302110            Dannenwalder Weg  5.408654\n",
      "445  12302211             Lübarser Straße  2.346041\n",
      "446  12302212           Rollbergesiedlung  7.866184\n",
      "447  12304313                 Borsigwalde  3.816254\n",
      "448  12304314  Ziekowstraße/Freie Scholle  3.466956\n",
      "      Kennung                        Name     y2014\n",
      "441  12302107             Schorfheidestr.  1.610905\n",
      "442  12302108          Märkisches Zentrum  4.350331\n",
      "443  12302109       Treuenbrietzener Str.  7.433628\n",
      "444  12302110            Dannenwalder Weg  4.900817\n",
      "445  12302211             Lübarser Straße  2.190476\n",
      "446  12302212           Rollbergesiedlung  7.468124\n",
      "447  12304313                 Borsigwalde  3.438596\n",
      "448  12304314  Ziekowstraße/Freie Scholle  3.250883\n",
      "      Kennung                        Name     y2015\n",
      "441  12302107             Schorfheidestr.  2.000000\n",
      "442  12302108          Märkisches Zentrum  4.974417\n",
      "443  12302109       Treuenbrietzener Str.  8.148804\n",
      "444  12302110            Dannenwalder Weg  5.609065\n",
      "445  12302211             Lübarser Straße  2.257761\n",
      "446  12302212           Rollbergesiedlung  8.325709\n",
      "447  12304313                 Borsigwalde  4.501385\n",
      "448  12304314  Ziekowstraße/Freie Scholle  3.384396\n",
      "      Kennung                        Name     y2016\n",
      "441  12302107             Schorfheidestr.  1.861042\n",
      "442  12302108          Märkisches Zentrum  4.917112\n",
      "443  12302109       Treuenbrietzener Str.  8.450704\n",
      "444  12302110            Dannenwalder Weg  5.997758\n",
      "445  12302211             Lübarser Straße  2.549575\n",
      "446  12302212           Rollbergesiedlung  9.659614\n",
      "447  12304313                 Borsigwalde  4.798331\n",
      "448  12304314  Ziekowstraße/Freie Scholle  3.629893\n",
      "      Kennung                        Name      y2017\n",
      "441  12302107             Schorfheidestr.   1.944107\n",
      "442  12302108          Märkisches Zentrum   5.143975\n",
      "443  12302109       Treuenbrietzener Str.   9.043020\n",
      "444  12302110            Dannenwalder Weg   6.704225\n",
      "445  12302211             Lübarser Straße   2.502317\n",
      "446  12302212           Rollbergesiedlung  10.151803\n",
      "447  12304313                 Borsigwalde   4.605722\n",
      "448  12304314  Ziekowstraße/Freie Scholle   3.607143\n",
      "      Kennung                        Name      y2018\n",
      "441  12302107             Schorfheidestr.   2.682927\n",
      "442  12302108          Märkisches Zentrum   5.708661\n",
      "443  12302109       Treuenbrietzener Str.   8.873114\n",
      "444  12302110            Dannenwalder Weg   6.966292\n",
      "445  12302211             Lübarser Straße   2.329916\n",
      "446  12302212           Rollbergesiedlung  10.995261\n",
      "447  12304313                 Borsigwalde   4.915730\n",
      "448  12304314  Ziekowstraße/Freie Scholle   4.116395\n"
     ]
    }
   ],
   "source": [
    "# ab 65 Jahre\n",
    "\n",
    "#initialise empty data frame\n",
    "df = pd.DataFrame()\n",
    "\n",
    "#iterate thorugh all the xls files\n",
    "#header row ist third row // start coutning at 0\n",
    "#specify speacial Na values with \"x\" and \".\"\n",
    "for i in range (2006, 2019):\n",
    "    df_temp = pd.read_excel('data/raw-data/lor/{}.xls'.format(str(i)), sheet_name='Tab E1', header=2, na_values=['x', '.'])\n",
    "    df_temp.rename(columns={' je 100 der Bevölkerung1)\\n(ab 65 Jahre,\\ninsgesamt)': 'y' + str(i), \n",
    "                            'Planungsraum':'Kennung', 'Unnamed: 1':'Name'}, inplace=True)\n",
    "\n",
    "    #solange es Planungsräume gibt\n",
    "    df_temp = df_temp[df_temp.Name.notnull() & (df_temp.Name != 'Name')]\n",
    "    \n",
    "    #create smaller df\n",
    "    df_temp = df_temp[['Kennung', 'Name', 'y' + str(i)]]\n",
    "    \n",
    "    print(df_temp.iloc[439:447,])\n",
    "    \n",
    "    if df.size == 0:\n",
    "        df = df_temp\n",
    "    else:\n",
    "        df = df.merge(df_temp, how=\"right\")\n",
    "\n",
    "#round to two numbers after comma\n",
    "df = df.round(2)\n",
    "\n",
    "df = df.fillna('null')\n",
    "\n",
    "df.to_csv('data/preprocessed-data/timelapse_full.csv', encoding='utf-8')"
   ]
  },
  {
   "cell_type": "markdown",
   "metadata": {},
   "source": [
    "## Merge all years for \"angerechnete Einkommen\" and \"Kosten der Unterkunft\""
   ]
  },
  {
   "cell_type": "markdown",
   "metadata": {},
   "source": [
    "### angerechnete Einkommen"
   ]
  },
  {
   "cell_type": "code",
   "execution_count": 45,
   "metadata": {},
   "outputs": [],
   "source": [
    "# this setup expects the rows to always stay in the same order (e.g.: row 6 = \"Empfänger/innen insgesamt\").\n",
    "# If the order changes, the outcome data is faulty\n",
    "\n",
    "df_income = pd.DataFrame()\n",
    "\n",
    "for i in range (2007, 2019):\n",
    "    df_temp = pd.read_excel('data/raw-data/monatliche-statistik/grusi_{}.xls'.format(str(i)), sheet_name='Tab E8', header=2, na_values=['x', '.'])\n",
    "    df_temp.rename(columns={'Unnamed: 15': str(i), \n",
    "                            'Unnamed: 0':'nationality'}, inplace=True)\n",
    "    df_temp = df_temp[df_temp.nationality.notnull() & (df_temp[str(i)].notnull())]\n",
    "\n",
    "    \n",
    "    \n",
    "    if df_income.size == 0:\n",
    "        df_income = df_temp[['nationality', str(i)]]\n",
    "        #df.set_index('nationality', inplace = True)\n",
    "    else:\n",
    "        df_income[str(i)] = df_temp[str(i)]\n",
    "\n",
    "df_income = df_income.round(2)\n",
    "df_income = df_income.fillna('null')"
   ]
  },
  {
   "cell_type": "code",
   "execution_count": 46,
   "metadata": {},
   "outputs": [
    {
     "data": {
      "text/plain": [
       "nationality    Empfänger/innen insgesamt\n",
       "2007                              427.31\n",
       "2008                              282.02\n",
       "2009                              218.07\n",
       "2010                              209.07\n",
       "2011                              212.26\n",
       "2012                              224.22\n",
       "2013                              229.71\n",
       "2014                              270.73\n",
       "2015                              284.14\n",
       "2016                              283.75\n",
       "2017                              286.04\n",
       "2018                              276.57\n",
       "Name: 2, dtype: object"
      ]
     },
     "execution_count": 46,
     "metadata": {},
     "output_type": "execute_result"
    }
   ],
   "source": [
    "df_income.loc[2,:]"
   ]
  },
  {
   "cell_type": "code",
   "execution_count": 47,
   "metadata": {},
   "outputs": [],
   "source": [
    "df_income.to_csv('data/preprocessed-data/income.csv', encoding='utf-8')"
   ]
  },
  {
   "cell_type": "code",
   "execution_count": 48,
   "metadata": {},
   "outputs": [],
   "source": [
    "# this setup expects the rows to always stay in the same order (e.g.: row 6 = \"Empfänger/innen insgesamt\").\n",
    "# If the order changes, the outcome data is faulty\n",
    "\n",
    "df_rent = pd.DataFrame()\n",
    "\n",
    "for i in range (2007, 2019):\n",
    "    df_temp = pd.read_excel('data/raw-data/monatliche-statistik/grusi_{}.xls'.format(str(i)), sheet_name='Tab E6', header=3, na_values=['x', '.'])\n",
    "    df_temp.rename(columns={'Durchschnittliche\\nanerkannte\\nAufwendungen für\\nUnterkunft und\\nHeizung in \\nEUR pro Monat\\n(Spalte 4-17)': str(i), \n",
    "                            'Unnamed: 0':'nationality'}, inplace=True)\n",
    "    df_temp = df_temp[df_temp.nationality.notnull() & (df_temp[str(i)].notnull())]\n",
    "\n",
    "    \n",
    "    \n",
    "    if df_rent.size == 0:\n",
    "        df_rent = df_temp[['nationality', str(i)]]\n",
    "        #df.set_index('nationality', inplace = True)\n",
    "    else:\n",
    "        df_rent[str(i)] = df_temp[str(i)]\n",
    "\n",
    "df_rent = df_rent.round(2)\n",
    "df_rent = df_rent.fillna('null')"
   ]
  },
  {
   "cell_type": "code",
   "execution_count": 49,
   "metadata": {},
   "outputs": [],
   "source": [
    "df_rent.to_csv('data/preprocessed-data/rent.csv', encoding='utf-8')"
   ]
  },
  {
   "cell_type": "markdown",
   "metadata": {},
   "source": [
    "#### join both datasets to one"
   ]
  },
  {
   "cell_type": "code",
   "execution_count": 50,
   "metadata": {},
   "outputs": [],
   "source": [
    "# get data of income dataFrame\n",
    "df_joined = df_income.set_index('nationality').T.iloc[:,0:1]\n",
    "df_joined.rename(columns={'Empfänger/innen insgesamt':'income'}, inplace = True)\n",
    "\n",
    "# get data of rent dataFrame\n",
    "df_joined['rent'] = df_rent.set_index('nationality').T.iloc[:,0:1]"
   ]
  },
  {
   "cell_type": "code",
   "execution_count": 51,
   "metadata": {},
   "outputs": [],
   "source": [
    "df_joined.to_csv('data/preprocessed-data/rent_income.csv', encoding='utf-8')"
   ]
  },
  {
   "cell_type": "code",
   "execution_count": null,
   "metadata": {},
   "outputs": [],
   "source": []
  },
  {
   "cell_type": "code",
   "execution_count": null,
   "metadata": {},
   "outputs": [],
   "source": []
  }
 ],
 "metadata": {
  "kernelspec": {
   "display_name": "Python 3",
   "language": "python",
   "name": "python3"
  },
  "language_info": {
   "codemirror_mode": {
    "name": "ipython",
    "version": 3
   },
   "file_extension": ".py",
   "mimetype": "text/x-python",
   "name": "python",
   "nbconvert_exporter": "python",
   "pygments_lexer": "ipython3",
   "version": "3.7.3"
  }
 },
 "nbformat": 4,
 "nbformat_minor": 2
}
