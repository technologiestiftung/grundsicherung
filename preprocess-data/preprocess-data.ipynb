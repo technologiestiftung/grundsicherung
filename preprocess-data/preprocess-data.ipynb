{
 "cells": [
  {
   "cell_type": "markdown",
   "metadata": {},
   "source": [
    "# Preprocess data for viz"
   ]
  },
  {
   "cell_type": "markdown",
   "metadata": {},
   "source": [
    "## Data for map "
   ]
  },
  {
   "cell_type": "code",
   "execution_count": null,
   "metadata": {},
   "outputs": [],
   "source": [
    "import geopandas as gpd\n",
    "import pandas as pd\n",
    "from shapely.geometry import Point"
   ]
  },
  {
   "cell_type": "code",
   "execution_count": null,
   "metadata": {},
   "outputs": [],
   "source": [
    "plr = gpd.read_file('data/raw-data/lor/lor_planungsraeume.geojson', encoding='utf-8')\n",
    "\n",
    "# old data: stgbxIIlor.csv\n",
    "df = pd.read_csv('data/raw-data/lor/2018_new.csv', sep=\";\", dtype={'Kennung':str}, na_values=['.', 'x'], encoding='utf-8')\n",
    "df.set_index('Kennung', inplace=True)\n",
    "\n",
    "data = df.join(plr.set_index('spatial_name'), rsuffix='_r')\n",
    "\n",
    "data.rename(columns={\n",
    "       ' je 100 der Bevölkerung1)\\n(18 - 64 Jahre,\\ninsgesamt)': '18-64 Jahre insgesamt',\n",
    "       ' je 100 der Bevölkerung1)\\n(ab 65 Jahre,\\ninsgesamt)': 'ab 65 Jahre insgesamt',\n",
    "       ' je 100 der Bevölkerung1)\\n(18 - 64 Jahre,\\nDeutsche)': '18-64 Jahre Deutsche',\n",
    "       ' je 100 der Bevölkerung1)\\n(ab 65 Jahre,\\nDeutsche)': 'ab 65 Jahre Deutsche',\n",
    "       ' je 100 der Bevölkerung1)\\n(18 - 64 Jahre,\\nAusländer)': '18-64 Jahre Ausländer',\n",
    "       ' je 100 der Bevölkerung1)\\n(ab 65 Jahre,\\nAusländer)': 'ab 65 Jahre Ausländer'\n",
    "}, inplace=True)\n",
    "\n",
    "gpd.GeoDataFrame(data).to_file('data/preprocessed-data/xii.geojson', driver='GeoJSON', encoding='utf-8')"
   ]
  },
  {
   "cell_type": "markdown",
   "metadata": {},
   "source": [
    "## Merge all years for whole Berlin (linechart)"
   ]
  },
  {
   "cell_type": "code",
   "execution_count": 6,
   "metadata": {},
   "outputs": [],
   "source": [
    "full_df = pd.DataFrame()\n",
    "\n",
    "for i in range (2006, 2019):\n",
    "    df = pd.read_excel('data/raw-data/lor/{}.xls'.format(str(i)), sheet_name='Tab E1', header=2, na_values=['x', '.'])\n",
    "    df['jahr'] = i\n",
    "    full_df = full_df.append(df[df.iloc[:,1] == 'Berlin'], sort=False)\n",
    "\n",
    "full_df.set_index('jahr', inplace = True)\n",
    "full_df = full_df.round(2)\n",
    "\n",
    "full_df.rename(columns={\n",
    "       ' je 100 der Bevölkerung1)\\n(18 - 64 Jahre,\\ninsgesamt)': '18-64 Jahre insgesamt',\n",
    "       ' je 100 der Bevölkerung1)\\n(ab 65 Jahre,\\ninsgesamt)': 'ab 65 Jahre insgesamt',\n",
    "       ' je 100 der Bevölkerung1)\\n(18 - 64 Jahre,\\nDeutsche)': '18-64 Jahre Deutsche',\n",
    "       ' je 100 der Bevölkerung1)\\n(ab 65 Jahre,\\nDeutsche)': 'ab 65 Jahre Deutsche',\n",
    "       ' je 100 der Bevölkerung1)\\n(18 - 64 Jahre,\\nAusländer)': '18-64 Jahre Ausländer',\n",
    "       ' je 100 der Bevölkerung1)\\n(ab 65 Jahre,\\nAusländer)': 'ab 65 Jahre Ausländer'\n",
    "}, inplace=True)\n",
    "\n",
    "full_df[['18-64 Jahre insgesamt',\n",
    "       'ab 65 Jahre insgesamt', '18-64 Jahre Deutsche', 'ab 65 Jahre Deutsche',\n",
    "       '18-64 Jahre Ausländer', 'ab 65 Jahre Ausländer']].to_csv('timeline.csv', encoding='utf-8')\n",
    "\n",
    "full_df = full_df.round(2)\n",
    "full_df.to_csv('data/preprocessed-data/timeline.csv', encoding='utf-8')"
   ]
  },
  {
   "cell_type": "markdown",
   "metadata": {},
   "source": [
    "## Merge all years on LOR Level (timelapse map)"
   ]
  },
  {
   "cell_type": "code",
   "execution_count": 29,
   "metadata": {},
   "outputs": [],
   "source": [
    "# ab 65 Jahre\n",
    "\n",
    "df = pd.DataFrame()\n",
    "\n",
    "for i in range (2006, 2019):\n",
    "    df_temp = pd.read_excel('data/raw-data/lor/{}.xls'.format(str(i)), sheet_name='Tab E1', header=2, na_values=['x', '.'])\n",
    "    df_temp.rename(columns={' je 100 der Bevölkerung1)\\n(ab 65 Jahre,\\ninsgesamt)': 'y' + str(i), \n",
    "                            'Planungsraum':'Kennung', 'Unnamed: 1':'Name'}, inplace=True)\n",
    "\n",
    "    df_temp = df_temp[df_temp.Name.notnull() & (df_temp.Name != 'Name')]\n",
    "    df_temp = df_temp[['Kennung', 'Name', 'y' + str(i)]]\n",
    "    \n",
    "    if df.size == 0:\n",
    "        df = df_temp\n",
    "    else:\n",
    "        df = df.merge(df_temp, how=\"right\")\n",
    "\n",
    "df = df.round(2)\n",
    "\n",
    "df = df.fillna('null')\n",
    "\n",
    "df.to_csv('data/preprocessed-data/timeline.csv', encoding='utf-8')"
   ]
  },
  {
   "cell_type": "markdown",
   "metadata": {},
   "source": [
    "## Merge all years for \"angerechnete Einkommen\" and \"Kosten der Unterkunft\""
   ]
  },
  {
   "cell_type": "markdown",
   "metadata": {},
   "source": [
    "### angerechnete Einkommen"
   ]
  },
  {
   "cell_type": "code",
   "execution_count": 202,
   "metadata": {},
   "outputs": [],
   "source": [
    "# this setup expects the rows to always stay in the same order (e.g.: row 6 = \"Empfänger/innen insgesamt\").\n",
    "# If the order changes, the outcome data is faulty\n",
    "\n",
    "df_income = pd.DataFrame()\n",
    "\n",
    "for i in range (2007, 2019):\n",
    "    df_temp = pd.read_excel('data/raw-data/monatliche-statistik/grusi_{}.xls'.format(str(i)), sheet_name='Tab E8', header=2, na_values=['x', '.'])\n",
    "    df_temp.rename(columns={'Unnamed: 15': str(i), \n",
    "                            'Unnamed: 0':'nationality'}, inplace=True)\n",
    "    df_temp = df_temp[df_temp.nationality.notnull() & (df_temp[str(i)].notnull())]\n",
    "\n",
    "    \n",
    "    \n",
    "    if df_income.size == 0:\n",
    "        df_income = df_temp[['nationality', str(i)]]\n",
    "        #df.set_index('nationality', inplace = True)\n",
    "    else:\n",
    "        df_income[str(i)] = df_temp[str(i)]\n",
    "\n",
    "df_income = df_income.round(2)\n",
    "df_income = df_income.fillna('null')"
   ]
  },
  {
   "cell_type": "code",
   "execution_count": 203,
   "metadata": {},
   "outputs": [
    {
     "data": {
      "text/plain": [
       "nationality    Empfänger/innen insgesamt\n",
       "2007                              427.31\n",
       "2008                              282.02\n",
       "2009                              218.07\n",
       "2010                              209.07\n",
       "2011                              212.26\n",
       "2012                              224.22\n",
       "2013                              229.71\n",
       "2014                              270.73\n",
       "2015                              284.14\n",
       "2016                              283.75\n",
       "2017                              286.04\n",
       "2018                              276.57\n",
       "Name: 2, dtype: object"
      ]
     },
     "execution_count": 203,
     "metadata": {},
     "output_type": "execute_result"
    }
   ],
   "source": [
    "df_income.loc[2,:]"
   ]
  },
  {
   "cell_type": "code",
   "execution_count": 204,
   "metadata": {},
   "outputs": [],
   "source": [
    "df_income.to_csv('data/preprocessed-data/income.csv', encoding='utf-8')"
   ]
  },
  {
   "cell_type": "code",
   "execution_count": 205,
   "metadata": {},
   "outputs": [],
   "source": [
    "# this setup expects the rows to always stay in the same order (e.g.: row 6 = \"Empfänger/innen insgesamt\").\n",
    "# If the order changes, the outcome data is faulty\n",
    "\n",
    "df_rent = pd.DataFrame()\n",
    "\n",
    "for i in range (2007, 2019):\n",
    "    df_temp = pd.read_excel('data/raw-data/monatliche-statistik/grusi_{}.xls'.format(str(i)), sheet_name='Tab E6', header=3, na_values=['x', '.'])\n",
    "    df_temp.rename(columns={'Durchschnittliche\\nanerkannte\\nAufwendungen für\\nUnterkunft und\\nHeizung in \\nEUR pro Monat\\n(Spalte 4-17)': str(i), \n",
    "                            'Unnamed: 0':'nationality'}, inplace=True)\n",
    "    df_temp = df_temp[df_temp.nationality.notnull() & (df_temp[str(i)].notnull())]\n",
    "\n",
    "    \n",
    "    \n",
    "    if df_rent.size == 0:\n",
    "        df_rent = df_temp[['nationality', str(i)]]\n",
    "        #df.set_index('nationality', inplace = True)\n",
    "    else:\n",
    "        df_rent[str(i)] = df_temp[str(i)]\n",
    "\n",
    "df_rent = df_rent.round(2)\n",
    "df_rent = df_rent.fillna('null')"
   ]
  },
  {
   "cell_type": "code",
   "execution_count": 207,
   "metadata": {},
   "outputs": [],
   "source": [
    "df_rent.to_csv('data/preprocessed-data/rent.csv', encoding='utf-8')"
   ]
  },
  {
   "cell_type": "markdown",
   "metadata": {},
   "source": [
    "#### join both datasets to one"
   ]
  },
  {
   "cell_type": "code",
   "execution_count": 208,
   "metadata": {},
   "outputs": [],
   "source": [
    "# get data of income dataFrame\n",
    "df_joined = df_income.set_index('nationality').T.iloc[:,0:1]\n",
    "df_joined.rename(columns={'Empfänger/innen insgesamt':'income'}, inplace = True)\n",
    "\n",
    "# get data of rent dataFrame\n",
    "df_joined['rent'] = df_rent.set_index('nationality').T.iloc[:,0:1]"
   ]
  },
  {
   "cell_type": "code",
   "execution_count": 209,
   "metadata": {},
   "outputs": [],
   "source": [
    "df_joined.to_csv('data/preprocessed-data/rent_income.csv', encoding='utf-8')"
   ]
  },
  {
   "cell_type": "code",
   "execution_count": null,
   "metadata": {},
   "outputs": [],
   "source": []
  }
 ],
 "metadata": {
  "kernelspec": {
   "display_name": "Python 3",
   "language": "python",
   "name": "python3"
  },
  "language_info": {
   "codemirror_mode": {
    "name": "ipython",
    "version": 3
   },
   "file_extension": ".py",
   "mimetype": "text/x-python",
   "name": "python",
   "nbconvert_exporter": "python",
   "pygments_lexer": "ipython3",
   "version": "3.7.1"
  }
 },
 "nbformat": 4,
 "nbformat_minor": 2
}
