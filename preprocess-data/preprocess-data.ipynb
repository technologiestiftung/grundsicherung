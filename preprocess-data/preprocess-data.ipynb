{
 "cells": [
  {
   "cell_type": "markdown",
   "metadata": {},
   "source": [
    "# Preprocess data for viz"
   ]
  },
  {
   "cell_type": "markdown",
   "metadata": {},
   "source": [
    "## Data for map "
   ]
  },
  {
   "cell_type": "code",
   "execution_count": 24,
   "metadata": {},
   "outputs": [],
   "source": [
    "import geopandas as gpd\n",
    "import pandas as pd\n",
    "from shapely.geometry import Point\n",
    "\n",
    "plr = gpd.read_file('lor_planungsraeume.geojson', encoding='utf-8')\n",
    "\n",
    "# old data: stgbxIIlor.csv\n",
    "df = pd.read_csv('2018_new.csv', sep=\";\", dtype={'Kennung':str}, na_values=['.', 'x'], encoding='utf-8')\n",
    "df.set_index('Kennung', inplace=True)\n",
    "\n",
    "data = df.join(plr.set_index('spatial_name'), rsuffix='_r')\n",
    "\n",
    "data.rename(columns={\n",
    "       ' je 100 der Bevölkerung1)\\n(18 - 64 Jahre,\\ninsgesamt)': '18-64 Jahre insgesamt',\n",
    "       ' je 100 der Bevölkerung1)\\n(ab 65 Jahre,\\ninsgesamt)': 'ab 65 Jahre insgesamt',\n",
    "       ' je 100 der Bevölkerung1)\\n(18 - 64 Jahre,\\nDeutsche)': '18-64 Jahre Deutsche',\n",
    "       ' je 100 der Bevölkerung1)\\n(ab 65 Jahre,\\nDeutsche)': 'ab 65 Jahre Deutsche',\n",
    "       ' je 100 der Bevölkerung1)\\n(18 - 64 Jahre,\\nAusländer)': '18-64 Jahre Ausländer',\n",
    "       ' je 100 der Bevölkerung1)\\n(ab 65 Jahre,\\nAusländer)': 'ab 65 Jahre Ausländer'\n",
    "}, inplace=True)\n",
    "\n",
    "gpd.GeoDataFrame(data).to_file('../data/xii.geojson', driver='GeoJSON', encoding='utf-8')"
   ]
  },
  {
   "cell_type": "markdown",
   "metadata": {},
   "source": [
    "## Merge all years for whole Berlin"
   ]
  },
  {
   "cell_type": "code",
   "execution_count": null,
   "metadata": {},
   "outputs": [],
   "source": [
    "full_df = pd.DataFrame()\n",
    "\n",
    "for i in range (2006, 2019):\n",
    "    df = pd.read_excel(str(i) + '.xls', sheet_name='Tab E1', header=2, na_values=['x', '.'])\n",
    "    df['jahr'] = i\n",
    "    full_df = full_df.append(df[df.iloc[:,1] == 'Berlin'], sort=False)\n",
    "\n",
    "full_df.set_index('jahr', inplace = True)\n",
    "full_df = full_df.round(2)\n",
    "\n",
    "full_df.rename(columns={\n",
    "       ' je 100 der Bevölkerung1)\\n(18 - 64 Jahre,\\ninsgesamt)': '18-64 Jahre insgesamt',\n",
    "       ' je 100 der Bevölkerung1)\\n(ab 65 Jahre,\\ninsgesamt)': 'ab 65 Jahre insgesamt',\n",
    "       ' je 100 der Bevölkerung1)\\n(18 - 64 Jahre,\\nDeutsche)': '18-64 Jahre Deutsche',\n",
    "       ' je 100 der Bevölkerung1)\\n(ab 65 Jahre,\\nDeutsche)': 'ab 65 Jahre Deutsche',\n",
    "       ' je 100 der Bevölkerung1)\\n(18 - 64 Jahre,\\nAusländer)': '18-64 Jahre Ausländer',\n",
    "       ' je 100 der Bevölkerung1)\\n(ab 65 Jahre,\\nAusländer)': 'ab 65 Jahre Ausländer'\n",
    "}, inplace=True)\n",
    "\n",
    "full_df[['18-64 Jahre insgesamt',\n",
    "       'ab 65 Jahre insgesamt', '18-64 Jahre Deutsche', 'ab 65 Jahre Deutsche',\n",
    "       '18-64 Jahre Ausländer', 'ab 65 Jahre Ausländer']].to_csv('timeline.csv', encoding='utf-8')\n",
    "\n",
    "full_df = full_df.round(2)\n",
    "full_df.to_csv('timeline.csv', encoding='utf-8')"
   ]
  },
  {
   "cell_type": "markdown",
   "metadata": {},
   "source": [
    "## Merge all years on LOR Level"
   ]
  },
  {
   "cell_type": "code",
   "execution_count": 25,
   "metadata": {},
   "outputs": [],
   "source": [
    "df = pd.DataFrame()\n",
    "\n",
    "# ab 65 Jahre\n",
    "df = pd.DataFrame()\n",
    "\n",
    "for i in range (2006, 2019):\n",
    "    df_temp = pd.read_excel(str(i) + '.xls', sheet_name='Tab E1', header=2, na_values=['x', '.'])\n",
    "    df_temp.rename(columns={' je 100 der Bevölkerung1)\\n(ab 65 Jahre,\\ninsgesamt)': 'y' + str(i), \n",
    "                            'Planungsraum':'Kennung', 'Unnamed: 1':'Name'}, inplace=True)\n",
    "\n",
    "    df_temp = df_temp[df_temp.Name.notnull() & (df_temp.Name != 'Name')]\n",
    "    df_temp = df_temp[['Kennung', 'Name', 'y' + str(i)]]\n",
    "    \n",
    "    if df.size == 0:\n",
    "        df = df_temp\n",
    "    else:\n",
    "        df = df.merge(df_temp, how=\"right\")\n",
    "\n",
    "df = df.round(2)\n",
    "\n",
    "df = df.fillna('null')\n",
    "\n",
    "df.to_csv('timelapse.csv', encoding='utf-8')"
   ]
  },
  {
   "cell_type": "code",
   "execution_count": null,
   "metadata": {},
   "outputs": [],
   "source": []
  }
 ],
 "metadata": {
  "kernelspec": {
   "display_name": "Python 3",
   "language": "python",
   "name": "python3"
  },
  "language_info": {
   "codemirror_mode": {
    "name": "ipython",
    "version": 3
   },
   "file_extension": ".py",
   "mimetype": "text/x-python",
   "name": "python",
   "nbconvert_exporter": "python",
   "pygments_lexer": "ipython3",
   "version": "3.7.1"
  }
 },
 "nbformat": 4,
 "nbformat_minor": 2
}
